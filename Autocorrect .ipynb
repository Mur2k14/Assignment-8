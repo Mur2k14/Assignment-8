{
 "cells": [
  {
   "cell_type": "code",
   "execution_count": 1,
   "id": "f8d72eec",
   "metadata": {},
   "outputs": [],
   "source": [
    "from autocorrect import Speller\n",
    "Spell = Speller(lang=\"en\")"
   ]
  },
  {
   "cell_type": "code",
   "execution_count": 2,
   "id": "792ce769",
   "metadata": {},
   "outputs": [
    {
     "data": {
      "text/plain": [
       "'Hall my name is Sankar'"
      ]
     },
     "execution_count": 2,
     "metadata": {},
     "output_type": "execute_result"
    }
   ],
   "source": [
    "sentence = \"Hallo my naem is Sankar\"\n",
    "Spell.autocorrect_sentence(sentence)"
   ]
  },
  {
   "cell_type": "code",
   "execution_count": 6,
   "id": "ac2b64a5",
   "metadata": {},
   "outputs": [
    {
     "data": {
      "text/plain": [
       "'Fiat'"
      ]
     },
     "execution_count": 6,
     "metadata": {},
     "output_type": "execute_result"
    }
   ],
   "source": [
    "Spell.autocorrect_word(\"Fiat\")"
   ]
  },
  {
   "cell_type": "code",
   "execution_count": 7,
   "id": "61c2a4d5",
   "metadata": {},
   "outputs": [
    {
     "name": "stdout",
     "output_type": "stream",
     "text": [
      "Collecting textblob\n",
      "  Downloading textblob-0.17.1-py2.py3-none-any.whl (636 kB)\n",
      "\u001b[K     |████████████████████████████████| 636 kB 3.8 MB/s eta 0:00:01\n",
      "\u001b[?25hRequirement already satisfied: nltk>=3.1 in /opt/anaconda3/lib/python3.9/site-packages (from textblob) (3.6.5)\n",
      "Requirement already satisfied: click in /opt/anaconda3/lib/python3.9/site-packages (from nltk>=3.1->textblob) (8.0.3)\n",
      "Requirement already satisfied: joblib in /opt/anaconda3/lib/python3.9/site-packages (from nltk>=3.1->textblob) (1.1.0)\n",
      "Requirement already satisfied: regex>=2021.8.3 in /opt/anaconda3/lib/python3.9/site-packages (from nltk>=3.1->textblob) (2021.8.3)\n",
      "Requirement already satisfied: tqdm in /opt/anaconda3/lib/python3.9/site-packages (from nltk>=3.1->textblob) (4.62.3)\n",
      "Installing collected packages: textblob\n",
      "Successfully installed textblob-0.17.1\n",
      "Note: you may need to restart the kernel to use updated packages.\n"
     ]
    }
   ],
   "source": [
    "pip install textblob"
   ]
  },
  {
   "cell_type": "code",
   "execution_count": 11,
   "id": "77aafccb",
   "metadata": {},
   "outputs": [
    {
     "name": "stdout",
     "output_type": "stream",
     "text": [
      "He is a great person\n"
     ]
    }
   ],
   "source": [
    "from textblob import TextBlob\n",
    "Spellchecker = TextBlob(\"He is a gret peron\")\n",
    "print(Spellchecker.correct())"
   ]
  },
  {
   "cell_type": "code",
   "execution_count": 14,
   "id": "d36c4a38",
   "metadata": {},
   "outputs": [
    {
     "name": "stdout",
     "output_type": "stream",
     "text": [
      "Hallo By name is ...\n"
     ]
    }
   ],
   "source": [
    "Leo = TextBlob(\"Hallo My naem is ...\")\n",
    "print(Leo.correct())"
   ]
  },
  {
   "cell_type": "code",
   "execution_count": 19,
   "id": "7e0acf2e",
   "metadata": {},
   "outputs": [
    {
     "name": "stdout",
     "output_type": "stream",
     "text": [
      "sankar\n",
      "சங்கர்\n"
     ]
    }
   ],
   "source": [
    "from deep_translator import GoogleTranslator\n",
    "variable = \"Sankar\"\n",
    "spanisoutput = GoogleTranslator(source=\"spanish\",target=\"english\").translate(variable)\n",
    "germanoutput = GoogleTranslator(source=\"auto\",target=\"tamil\").translate(variable)\n",
    "print(spanisoutput)\n",
    "print(germanoutput)"
   ]
  },
  {
   "cell_type": "code",
   "execution_count": null,
   "id": "86fda3eb",
   "metadata": {},
   "outputs": [],
   "source": []
  }
 ],
 "metadata": {
  "kernelspec": {
   "display_name": "Python 3 (ipykernel)",
   "language": "python",
   "name": "python3"
  },
  "language_info": {
   "codemirror_mode": {
    "name": "ipython",
    "version": 3
   },
   "file_extension": ".py",
   "mimetype": "text/x-python",
   "name": "python",
   "nbconvert_exporter": "python",
   "pygments_lexer": "ipython3",
   "version": "3.9.7"
  }
 },
 "nbformat": 4,
 "nbformat_minor": 5
}
